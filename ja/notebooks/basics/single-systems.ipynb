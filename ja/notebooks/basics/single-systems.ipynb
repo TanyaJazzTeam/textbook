{
  "cells": [
    {
      "cell_type": "markdown",
      "id": "13690dd7",
      "metadata": {
        "gloss": {
          "altnoise": {
            "text": "In the context of information, *noise* refers to unwanted disturbances or alterations, which may be caused by imperfect hardware or uncontrollable factors in the environment. As an example phrased in mathematical terms, a bit in a computer memory that spontaneously flips with some probability could be described as being noisy.",
            "title": "Noise"
          },
          "quantum-information": {
            "text": "*Quantum information* is both a concept and a framework for modeling and describing information in quantum systems. While it is based on and motivated by quantum physics, the physical details can largely be abstracted away, leaving a mathematical framework that is applicable to a variety of specific physical systems.",
            "title": "Quantum information"
          }
        }
      },
      "source": [
        "# 単一システム\n",
        "\n",
        "![ノートと原子のイラスト。](images/single-systems/hero.png)\n",
        "\n",
        "このレッスンでは、[複素数](gloss:quantum-information)エントリを持つベクトルとしての量子状態の記述、量子状態から古典的な情報を抽出できるようにする測定、ユニタリ行列で記述される量子状態の操作など、量子情報の基本的なフレームワークを紹介します。このレッスンでは、単一のシステムを分離して考える比較的単純な設定に注目します。次のレッスンでは、たとえば、相互に対話したり相関したりできる複数のシステムに視野を広げます。\n",
        "\n",
        "実際、量子情報には 2 つの一般的な数学的記述があります。このレッスンで紹介するのは、2 つのうち単純な方です。この説明は、多くの (またはおそらくほとんどの) 量子アルゴリズムを理解するのに十分であり、教育的な観点から始めるのに自然な場所です。\n",
        "\n",
        "*量子状態が密度行列*で表される、より一般的で最終的にはより強力な量子情報の記述については、後のレッスンで紹介します。密度行列の記述は、いくつかの理由から量子情報の研究に不可欠です。例として、量子計算に対する[ノイズ](gloss:altnoise)の影響や、もつれたペアの一方の状態をモデル化するために使用できます。より一般的には、密度行列は量子情報理論と量子暗号の数学的基礎として機能し、数学的な観点から見ると非常に美しいものです。これらの理由から、適切な時期にそれについてさらに学ぶことをお勧めしますが、現時点では、量子情報のより簡単な説明に焦点を当てます。"
      ]
    },
    {
      "cell_type": "markdown",
      "id": "96a87980",
      "metadata": {
        "gloss": {
          "classical": {
            "text": "The term *classical* refers to concepts, ideas, and descriptions based on physical theories (such as Newtonian physics) that predate the discovery of quantum theory. In the context of information, it can be interpreted as meaning *not quantum* or not specifically connected to quantum information.",
            "title": "Classical"
          }
        }
      },
      "source": [
        "## 1. 古典的な情報<a id=\"single-systems-classical\"></a>\n",
        "\n",
        "![サイコロ、DNA らせん、コインのイラスト。](images/single-systems/classical-information.png)\n",
        "\n",
        "量子情報とそれがどのように機能するかを説明するために、[古典的](gloss:classical)情報の概要から始めます。読者の中には、なぜ*量子*情報のコースで古典的な情報にそれほど注目することにしたのかと疑問に思う人もいるかもしれませんが、それには十分な理由があります。まず、量子情報と古典情報はかなり見事な点で異なりますが、それらの数学的記述は実際には非常に似ています。\n",
        "\n",
        "古典的な情報は、量子情報を研究する際のよく知られた参照点としてだけでなく、驚くほど役立つ類似性の源としても機能します。自然な古典的な類似点を持つ量子情報について質問することはよくありますが、多くの場合、量子情報に関する元の質問に対する明確さと洞察の両方を提供できる単純な回答が得られます。実際、古典的な情報を理解せずに量子情報を真に理解することはできないと主張するのはまったく不合理ではありません。\n",
        "\n",
        "読者の中には、このセクションで説明する内容をすでによく知っている人もいるかもしれませんが、そうでない人もいるかもしれませんが、この議論は両方の読者を対象としています。このセクションでは、量子情報の入門に最も関連する古典情報の側面を強調することに加えて、量子情報と計算におけるベクトルと行列を記述するためによく使用される*ディラック表記法*を紹介します。結局のところ、ディラック表記は量子情報に固有のものではありません。古典的な情報のコンテキストだけでなく、ベクトルや行列が発生する他の多くの設定でも同様に使用できます。"
      ]
    },
    {
      "cell_type": "markdown",
      "id": "21a83c79",
      "metadata": {
        "formulas": {
          "_sigma": {
            "say": "\"Sigma\""
          },
          "probability": {
            "meaning": "The probability of the expression in the parentheses to the right being true."
          }
        },
        "gloss": {
          "system": {
            "text": "In this course, a system is an abstraction of a physical device or a medium that stores information.",
            "title": "System"
          }
        }
      },
      "source": [
        "### 1.1 古典的な状態と確率ベクトル<a id=\"classical-states\"></a>\n",
        "\n",
        "情報を保存する[システム](gloss:system)があるとします。より具体的には、このシステムが各瞬間に有限数の*古典的状態*の 1 つになる可能性があると仮定しましょう。ここで、「古典的状態」という用語は、明確に認識および説明できる構成として、直観的な用語で理解されるべきです。\n",
        "\n",
        "繰り返し説明する典型的な例は、*ビット*の例です。これは、古典的な状態が 0 と 1 であるシステムです。他の例には、古典的な状態が 1、2、3、 4、5、6。 DNA 鎖内の核酸塩基。古典的な状態は*A* 、 *C* 、 *G* 、および*T*です。そして扇風機のスイッチ。その古典的な状態は (一般に)*高*、*中*、*低*、*オフ*です。数学用語では、システムの古典状態の仕様が実際の出発点です。古典状態 0 と 1 を持つシステムとしてビットを定義します。また、異なる古典状態セットを持つシステムについても同様です。\n",
        "\n",
        "この議論のために、検討中のシステムに $\\mathsf{X}$ という名前を付け、古典状態の集合を参照するために記号 $\\class{_sigma}{\\Sigma}$ を使用しましょう。 $\\mathsf{X}$ の。前述のように $\\Sigma$ が有限であるという仮定と同様に、$\\Sigma$ が空ではないことも当然仮定します。つまり、物理システムが状態をまったく持たないことは無意味です。物理システムに無限に多くの古典的状態があると考えることは理にかなっていますが、今のところこの可能性は無視します。限られた数の州内でも、検討すべき興味深いアイデアがたくさんあります。便宜上、簡潔にするために、今後は、有限で空でない集合を意味するために*古典的状態集合*という用語を使用します。\n",
        "\n",
        "たとえば、 $\\mathsf{X}$ がビットの場合、 $\\Sigma = {0,1}$ (これはよく*バイナリ アルファベット*と呼ばれます) となります。 $\\mathsf{X}$ が 6 面サイコロの場合、$\\Sigma = {1,2,3,4,5,6}$; $\\mathsf{X}$ が電動ファン スイッチの場合、$\\Sigma = {\\mathrm{high}, \\mathrm{medium}, \\mathrm{low}, \\mathrm{off}}$ となります。\n",
        "\n",
        "$\\mathsf{X}$ を情報の伝達体として考えると、$\\mathsf{X}$ のさまざまな古典的状態に特定の意味が割り当てられ、さまざまな結果や結果が生じる可能性があります。このような場合、$\\mathsf{X}$ は、単に考えられる古典的な状態の 1 つにあるものとして説明するだけで十分かもしれません。たとえば、 $\\mathsf{X}$ がファン スイッチの場合、それが*high*に設定されていることが確実にわかる可能性があります。しかし、情報処理においては、$\\mathsf{X}$ に関する知識が不確かであることがよくあります。 $\\mathsf{X}$ の古典的状態についての知識を、各古典的状態に確率を割り当てることで表現し、その結果、*確率的状態*が得られます。\n",
        "\n",
        "たとえば、$\\mathsf{X}$ がビットであるとします。過去に $\\mathsf{X}$ に何が起こったかについて私たちが知っていること、または予想していることに基づいて、おそらく $\\mathsf{X}$ は $3/4$ の確率で古典的な状態 $0$ にあり、 $1$ の確率が $1/4.$ である状態を次のように書くことでそのような信念を表すことができます。\n",
        "\n",
        "$$\n",
        "\\class{probability}{\\operatorname{Pr}}(\\mathsf{X}=0) = \\frac{3}{4}\n",
        "\\quad\\text{and}\\quad\n",
        "\\class{probability}{\\operatorname{Pr}}(\\mathsf{X}=1) = \\frac{1}{4}.\n",
        "$$\n",
        "\n",
        "この確率的状態をより簡潔に表す方法は、列ベクトルを使用することです。\n",
        "\n",
        "$$\n",
        "\\begin{pmatrix}\n",
        "  \\frac{3}{4}\\\\[1mm]\n",
        "  \\frac{1}{4}\n",
        "\\end{pmatrix}\n",
        "$$\n",
        "\n",
        "ビットが $0$ である確率がベクトルの先頭に配置され、ビットが $1$ である確率が末尾に配置されます。これは単に、これがセット ${0,1}$ を順序付ける従来の方法であるためです。\n",
        "\n",
        "一般に、同じ方法で設定された古典的状態を持つシステムの確率的状態は、確率のベクトルとして表すことができます。確率は、私たちが選択した任意の方法で順序付けできます。通常、これは、作業している古典的な状態セットを順序付ける自然な方法またはデフォルトの方法によって決定されます。正確には、次の 2 つのプロパティを満たす列ベクトルを通じて任意の確率状態を表すことができます。\n",
        "\n",
        "1. ベクトルのすべてのエントリは*非負の実数*です。\n",
        "2. エントリの合計は $1.$ と等しくなります。\n",
        "\n",
        "逆に、これら 2 つの特性を満たす列ベクトルは、確率的状態の表現として解釈できます。以降、この形式のベクトルを*確率ベクトル*と呼びます。\n",
        "\n",
        "この表記法が簡潔であることに加えて、確率状態を列ベクトルとして識別することには、以下で説明するように、確率状態に対する演算が行列とベクトルの乗算によって表現されるという利点があります。\n",
        "\n",
        "<!-- ::: q-block.exercise -->\n",
        "\n",
        "### 簡単なクイズ\n",
        "\n",
        "<!-- ::: q-quiz(goal=\"ss-quiz-1\") -->\n",
        "\n",
        "<!-- ::: .question -->\n",
        "\n",
        "有効な確率ベクトルは次のうちどれですか?\n",
        "\n",
        "<!-- ::: -->\n",
        "\n",
        "<!-- ::: .option -->\n",
        "\n",
        "1. $\\begin{pmatrix} \\sqrt{2}\\\\ 1 - \\sqrt{2} \\end{pmatrix}$\n",
        "\n",
        "<!-- ::: -->\n",
        "\n",
        "<!-- ::: .option -->\n",
        "\n",
        "1. $\\begin{pmatrix} 0.3 \\\\ 0.3 \\end{pmatrix}$\n",
        "\n",
        "<!-- ::: -->\n",
        "\n",
        "<!-- ::: .option(correct) -->\n",
        "\n",
        "1. $\\begin{pmatrix} 0 \\\\ 1 \\\\ 0 \\end{pmatrix}$\n",
        "\n",
        "<!-- ::: -->\n",
        "\n",
        "<!-- ::: -->\n",
        "\n",
        "<!-- ::: -->"
      ]
    },
    {
      "cell_type": "markdown",
      "id": "936e5686",
      "metadata": {
      },
      "source": [
        "### 1.2 確率的状態の測定<a id=\"classical-measure\"></a>\n",
        "\n",
        "ここで、システムが確率的状態にあるときにシステムを*測定する*と何が起こるかを簡単に考えてみましょう。システムを測定するということは、システムを見て、それがどのような古典的な状態にあるのかを明確に認識することを意味します。直観的に言えば、確率的な状態にあるシステムを「見る」ことはできません。測定により、許容される古典的な状態の 1 つが正確​​に得られます。\n",
        "\n",
        "測定はシステムに関する私たちの知識を変えるため、そのシステムに関連付けられている確率状態も変わります。 $\\mathsf{X}$ が古典的な状態 $a\\in\\Sigma$ にあると認識すると、新しい確率ベクトルは$\\mathsf{X}$ の知識を表すベクトルは、$a$ に対応するエントリに $1$ を持ち、他のすべてのエントリには $0$ を持ちます。このベクトルは、$\\mathsf{X}$ が確実に古典的状態 $a$ にあることを示しており、それは認識したばかりでわかっています。\n",
        "\n",
        "先ほど説明したベクトルを、$a$ に対応するエントリに $1$ を持ち、他のすべてのエントリに $0$ を持つベクトルを $\\vert a\\rangle で表します。$ このベクトルは、「ket $a$」と読みます。その理由については後ほど説明します。この種のベクトルは*標準基底*ベクトルとも呼ばれます。\n",
        "\n",
        "たとえば、私たちが考えているシステムがビットであると仮定すると、標準基底ベクトルは次のように与えられます。\n",
        "\n",
        "$$\n",
        "  \\vert 0\\rangle = \\begin{pmatrix}1\\\\0\\end{pmatrix}\n",
        "  \\quad\\text{and}\\quad\n",
        "  \\vert 1\\rangle = \\begin{pmatrix}0\\\\1\\end{pmatrix}.\n",
        "$$\n",
        "\n",
        "任意の 2 次元の列ベクトルは、これら 2 つのベクトルの線形結合として表現できることに注意してください。たとえば、\n",
        "\n",
        "$$\n",
        "\\begin{pmatrix}\n",
        "  \\frac{3}{4}\\\\[2mm]\n",
        "  \\frac{1}{4}\n",
        "\\end{pmatrix}\n",
        "= \\frac{3}{4}\\,\\vert 0\\rangle + \\frac{1}{4}\\,\\vert 1\\rangle.\n",
        "$$\n",
        "\n",
        "この事実は当然、あらゆる古典的な状態セットに一般化されます。つまり、あらゆる列ベクトルは古典的な状態にわたる線形結合です。標準基底ベクトルの線形結合としてベクトルを表現することは、今後非常に一般的になるでしょう。\n",
        "\n",
        "測定時の確率的状態の変化に戻ると、私たちの日常の経験と次のような関係に気づくかもしれません。公正なコインを投げるが、それを見る前にコインを隠したとします。その場合、その確率的状態は次のようになります。\n",
        "\n",
        "$$\n",
        "\\begin{pmatrix}\n",
        "  \\frac{1}{2}\\\\[2mm]\n",
        "  \\frac{1}{2}\n",
        "\\end{pmatrix}\n",
        "= \\frac{1}{2}\\,\\vert\\text{heads}\\rangle + \\frac{1}{2}\\,\\vert\\text{tails}\\rangle.\n",
        "$$\n",
        "\n",
        "ここで、コインの古典的な状態セットは ${\\text{heads},\\text{tails}}$ です。これらの状態を表が最初、裏が 2 番目という順序で並べることを選択します。\n",
        "\n",
        "$$\n",
        "\\vert\\text{heads}\\rangle = \\begin{pmatrix}1\\\\0\\end{pmatrix}\n",
        "\\quad\\text{and}\\quad\n",
        "\\vert\\text{tails}\\rangle = \\begin{pmatrix}0\\\\1\\end{pmatrix}\n",
        "$$\n",
        "\n",
        "コインを取り出して見ると、表か裏という 2 つの古典的な状態のいずれかが表示されます。結果が裏だったと仮定すると、コインの確率的状態の記述は $|\\text{tails}\\rangle$ になるように自然に更新されます。もちろん、コインを隠して、それを外してもう一度見たとしても、古典的な状態は依然として裏であり、これはベクトル $|\\text{tails} によって記述される確率的状態と一致します。 \\rangle$。これは些細なことのように思えるかもしれませんが、ある意味ではそうなのです。ただし、量子システムは完全に類似した方法で動作しますが、その測定特性は異常または「不気味」であると考えられることがよくあります。古典系の測定特性を確立することで、量子情報の同様の動作がそれほど珍しいものではなくなるかもしれません。\n",
        "\n",
        "確率的状態の測定に関する最後の注意事項: それらは知識や信念を記述する場合があり、必ずしも実際のものである必要はありません。コインを投げた後、見る前の状態は表か裏のいずれかであり、見るまではどちらかは分かりません。そうすることで実際に状態が変更されるのではなく、それに対する認識が変更されるだけです。古典的な状態が裏であることを確認すると、ベクトル $|\\text{tails}\\rangle$ をコインに代入することで当然のことながら知識を更新しますが、コインが発見されたときにコインを見なかった他の人には、確率的状態が割り当てられます。は変わらないままです。これは心配する必要はありません。個人が特定のシステムについて異なる知識や信念を持っている可能性があるため、そのシステムを異なる確率ベクトルで説明する可能性があります。"
      ]
    },
    {
      "cell_type": "markdown",
      "id": "5ac2b210",
      "metadata": {
        "formulas": {
          "_m00": {
            "meaning": "The probability this operation transforms the input bit from 0 to 0."
          },
          "_m01": {
            "meaning": "The probability this operation transforms the input bit from 0 to 1."
          },
          "_m10": {
            "meaning": "The probability this operation transforms the input bit from 1 to 0."
          },
          "_m11": {
            "meaning": "The probability this operation transforms the input bit from 1 to 1."
          }
        },
        "gloss": {
          "altdeterministic": {
            "text": "An operation is deterministic if the result is completely determined by the input without any element of chance or uncertainty.",
            "title": "Deterministic"
          },
          "altstochastic": {
            "text": "*Stochastic* means ivolving randomness, chance, or uncertainty.",
            "title": "Stochastic"
          },
          "associative": {
            "text": "An operation is associative if we can move the position of the parentheses and get the same result. <br><a href=\"https://en.wikipedia.org/wiki/Associative_property\">Read more</a>",
            "title": "Associativity"
          },
          "commutative": {
            "text": "If an operation is commutative, switching the order of the inputs does not change the result.<br><a href=\"https://en.wikipedia.org/wiki/Commutative_property\">Read more</a>",
            "title": "Commutativity"
          },
          "composing": {
            "text": "Composition refers to applying one function after another.<br><a href=\"https://en.wikipedia.org/wiki/Function_composition\">Read more</a>.",
            "title": "Composition"
          },
          "dirac": {
            "text": "Paul Dirac was a physicist who made key contributions to the development of quantum physics.<br><a href=\"https://en.wikipedia.org/wiki/Paul_Dirac\">Read more</a>.",
            "title": "Paul Dirac"
          },
          "identity-function": {
            "text": "The identity function returns its input unchanged.",
            "title": "Identity"
          }
        }
      },
      "source": [
        "### 1.3 古典的な操作<a id=\"classical-operations\"></a>\n",
        "\n",
        "古典的な情報のこの簡単な要約の最後の部分では、古典的なシステムで実行できる操作の種類について検討します。\n",
        "\n",
        "#### 決定論的な操作\n",
        "\n",
        "まず、[決定論的](gloss:altdeterministic)操作があり、各古典的状態 $a\\in\\Sigma$ は、$f:\\Sigma\\rightarrow\\Sigma$ 形式の関数 $f$ の $f(a)$ に変換されます。\n",
        "\n",
        "たとえば、$\\Sigma = {0,1}$ の場合、この形式の関数は $f_1$、$f_2$、$f_3$、$f_4$ の 4 つあり、次のような値の表で表すことができます。 :\n",
        "\n",
        "$$\n",
        "\\rule[-10mm]{0mm}{15mm}\n",
        "\\begin{array}{c|c}\n",
        "  a & f_1(a)\\\\\n",
        "  \\hline\n",
        "  0 & 0\\\\\n",
        "  1 & 0\n",
        "\\end{array}\n",
        "\\qquad\n",
        "\\begin{array}{c|c}\n",
        "  a & f_2(a)\\\\\n",
        "  \\hline\n",
        "  0 & 0\\\\\n",
        "  1 & 1\n",
        "\\end{array}\n",
        "\\qquad\n",
        "\\begin{array}{c|c}\n",
        "  a & f_3(a)\\\\\n",
        "  \\hline\n",
        "  0 & 1\\\\\n",
        "  1 & 0\n",
        "\\end{array}\n",
        "\\qquad\n",
        "\\begin{array}{c|c}\n",
        "  a & f_4(a)\\\\\n",
        "  \\hline\n",
        "  0 & 1\\\\\n",
        "  1 & 1\n",
        "\\end{array}\n",
        "$$\n",
        "\n",
        "これらの関数の最初と最後は*定数*です: 各 $a\\in\\Sigma$ に対して $f_1(a) = 0$ および $f_4(a) = 1$ です。中央の 2 つは一定ではなく、可能な 2 つの出力値が可能な入力の範囲と同じ回数発生するという意味で*バランスが取れ*ています。関数 $f_2$ は[恒等関数](gloss:identity-function): $a\\in\\Sigma$ ごとの $f_2(a) = a$ です。 $f_3$ は関数 $f_3(0) = 1$ および $f_3(1) = 0$ であり、NOT 関数としてよく知られています。\n",
        "\n",
        "確率的状態に対する決定論的操作のアクションは、行列とベクトルの乗算によって表すことができます。具体的には、与えられた関数 $f:\\Sigma\\rightarrow\\Sigma$ を表す行列 $M$ は、次の条件を満たすものです。\n",
        "\n",
        "$$\n",
        "M \\vert a \\rangle = \\vert f(a)\\rangle\n",
        "$$\n",
        "\n",
        "$a\\in\\Sigma$ ごとに。このような行列は常に存在し、一意です。\n",
        "\n",
        "たとえば、上記の関数 $f_1,\\ldots,f_4$ に対応する行列 $M_1,\\ldots,M_4$ は次のとおりです。\n",
        "\n",
        "$$\n",
        "  \\rule[-6mm]{0mm}{14.5mm}\n",
        "  M_1 =\n",
        "  \\begin{pmatrix}\n",
        "    \\class{_m00}{1} & \\class{_m10}{1}\\\\\n",
        "    \\class{_m01}{0} & \\class{_m11}{0}\n",
        "  \\end{pmatrix},\n",
        "  \\hspace{4mm}\n",
        "  M_2 =\n",
        "  \\begin{pmatrix}\n",
        "    \\class{_m00}{1} & \\class{_m10}{0}\\\\\n",
        "    \\class{_m01}{0} & \\class{_m11}{1}\n",
        "  \\end{pmatrix},\n",
        "  \\hspace{4mm}\n",
        "  M_3 =\n",
        "  \\begin{pmatrix}\n",
        "    \\class{_m00}{0} & \\class{_m10}{1}\\\\\n",
        "    \\class{_m01}{1} & \\class{_m11}{0}\n",
        "  \\end{pmatrix},\n",
        "  \\hspace{4mm}\n",
        "  \\text{and}\n",
        "  \\hspace{4mm}\n",
        "  M_4 =\n",
        "  \\begin{pmatrix}\n",
        "    \\class{_m00}{0} & \\class{_m10}{0}\\\\\n",
        "    \\class{_m01}{1} & \\class{_m11}{1}\n",
        "  \\end{pmatrix}.\n",
        "$$\n",
        "\n",
        "決定論的操作を表す行列には、各列に常に 1 つの $1$ があり、他のすべてのエントリには $0$ が含まれます。\n",
        "\n",
        "これらおよび他の形式の行列を表現する便利な方法は、前に説明した列ベクトルの表記法と同様の行ベクトルの表記法を利用することです。 $\\langle a \\vert$ によって、$a\\in\\Sigma ごとに、$a$ に対応するエントリに $1$ があり、他のすべてのエントリにゼロがある*行*ベクトルを表します。このベクトルは、「bra $」と読みます。 $。」\n",
        "\n",
        "たとえば、$\\Sigma = {0,1}$ の場合、\n",
        "\n",
        "$$\n",
        "  \\langle 0 \\vert = \\begin{pmatrix}\n",
        "    1 & 0\n",
        "  \\end{pmatrix}\n",
        "  \\quad\\text{and}\\quad\n",
        "  \\langle 1 \\vert = \\begin{pmatrix}\n",
        "    0 & 1\n",
        "  \\end{pmatrix}.\n",
        "$$\n",
        "\n",
        "古典的な状態集合 $\\Sigma$ を任意に選択し、行ベクトルと列ベクトルを行列として見て行列乗算 $\\vert b\\rangle \\langle a\\vert$ を実行すると、$1$ をもつ正方行列が得られます。 $(b,a)$ のペアに対応するエントリ。つまり、エントリの行は $b$ に対応し、列は $a$ に対応し、他のすべてのエントリは $0$ に対応します。例えば、\n",
        "\n",
        "$$\n",
        "  \\vert 0 \\rangle \\langle 1 \\vert = \\begin{pmatrix}\n",
        "    0 & 1 \\\\\n",
        "    0 & 0\n",
        "  \\end{pmatrix}.\n",
        "$$\n",
        "\n",
        "この表記法を使用すると、任意の関数 $f:\\Sigma\\rightarrow\\Sigma$ に対して、関数 $f$ に対応する行列 $M$ を次のように表すことができます。\n",
        "\n",
        "$$\n",
        "  M = \\sum_{a\\in\\Sigma} \\vert f(a) \\rangle \\langle a \\vert.\n",
        "$$\n",
        "\n",
        "ここで、もう一度ベクトルを行列として考えますが、今回は乗算 $\\langle a \\vert \\vert b \\rangle$ を考えると、$1\\times 1$ 行列が得られます。これはスカラーと考えることができます (つまり、数値)。わかりやすくするために、この積を $\\langle a \\vert \\vert b \\rangle$ ではなく $\\langle a \\vert b\\rangle$ と書きます。この積は次の簡単な式を満たします。\n",
        "\n",
        "$$\n",
        "  \\langle a \\vert b \\rangle\n",
        "  = \\begin{cases}\n",
        "    1 & a = b\\\\\n",
        "    0 & a \\not= b.\n",
        "  \\end{cases}\n",
        "$$\n",
        "\n",
        "この観察と、行列の乗算が結合的かつ線形であるという事実を併用すると、次のことが得られます。\n",
        "\n",
        "$$\n",
        "  M \\vert b \\rangle = \n",
        "  \\Biggl(\n",
        "  \\sum_{a\\in\\Sigma} \\vert f(a) \\rangle \\langle a \\vert\n",
        "  \\Biggr)\n",
        "  \\vert b\\rangle\n",
        "  = \\sum_{a\\in\\Sigma} \\vert f(a) \\rangle \\langle a \\vert b \\rangle\n",
        "  = \\vert f(b)\\rangle,\n",
        "$$\n",
        "\n",
        "各 $b\\in\\Sigma$ に対して、これが $M$ に必要なものです。\n",
        "\n",
        "レッスン 3 で詳しく説明しますが、$\\langle a \\vert b \\rangle$ は、ベクトル $\\vert a\\rangle$ と $\\vert b\\rangle$ の間の*内積*と見なすこともできます。内積は量子情報において非常に重要ですが、必要になるまで議論を延期します。\n",
        "\n",
        "この時点で、「bra」と「ket」という名前は明らかです。「bra」 $\\langle a\\vert$ と「ket」 $\\vert b\\rangle$ を組み合わせると、「bracket」 $\\langle a が生成されます。 \\vert b\\rangle$。この表記法と用語は[Paul Dirac](gloss:dirac)によるものであり、このため*ディラック表記法*として知られています。"
      ]
    },
    {
      "cell_type": "markdown",
      "id": "be8094f7",
      "metadata": {
        "formulas": {
          "_m00": {
            "meaning": "The probability this operation transforms the input bit from 0 to 0."
          },
          "_m01": {
            "meaning": "The probability this operation transforms the input bit from 0 to 1."
          },
          "_m10": {
            "meaning": "The probability this operation transforms the input bit from 1 to 0."
          },
          "_m11": {
            "meaning": "The probability this operation transforms the input bit from 1 to 1."
          }
        },
        "gloss": {
          "altdeterministic": {
            "text": "An operation is deterministic if the result is completely determined by the input without any element of chance or uncertainty.",
            "title": "Deterministic"
          },
          "associative": {
            "text": "An operation is associative if we can move the position of the parentheses and get the same result. <br><a href=\"https://en.wikipedia.org/wiki/Associative_property\">Read more</a>",
            "title": "Associativity"
          },
          "commutative": {
            "text": "If an operation is commutative, switching the order of the inputs does not change the result.<br><a href=\"https://en.wikipedia.org/wiki/Commutative_property\">Read more</a>",
            "title": "Commutativity"
          },
          "composing": {
            "text": "Composition refers to applying one function or operation after another.<br><a href=\"https://en.wikipedia.org/wiki/Function_composition\">Read more</a>.",
            "title": "Composition"
          },
          "dirac": {
            "text": "Paul Dirac was a physicist who made key contributions to the development of quantum physics.<br><a href=\"https://en.wikipedia.org/wiki/Paul_Dirac\">Read more</a>.",
            "title": "Paul Dirac"
          },
          "identity-function": {
            "text": "The identity function returns its input unchanged.",
            "title": "Identity"
          },
          "stochastic-matrix": {
            "text": "'Stochastic' roughly means 'random'. A stochastic matrix represents a random process.",
            "title": "Stochastic"
          }
        }
      },
      "source": [
        "#### 確率演算と確率行列\n",
        "\n",
        "決定的操作に加えて、*確率的操作も*あります。\n",
        "\n",
        "たとえば、ビットの古典的な状態が $0,$ の場合はそのままにし、ビットの古典的な状態が $1,$ の場合は $1/2 の確率で $0$ に反転される、ビットに対する演算を考えてみましょう。 .$ この演算は行列で表されます。\n",
        "\n",
        "$$\n",
        "  \\begin{pmatrix}\n",
        "    1 & \\frac{1}{2}\\\\[1mm]\n",
        "    0 & \\frac{1}{2}\n",
        "  \\end{pmatrix}.\n",
        "$$\n",
        "\n",
        "標準の基底ベクトルを乗算することで、この行列が正しい動作をしていることを確認できます。\n",
        "\n",
        "古典的な状態セットを任意に選択する場合、すべての確率的操作のセットを[数学](gloss:altstochastic)用語で、次の 2 つの特性を満たす行列である確率行列で表されるものとして記述することができます。\n",
        "\n",
        "1. すべてのエントリは非負の実数です。\n",
        "2. 各列のエントリの合計は $1.$ になります。\n",
        "\n",
        "同様に、確率行列は、その列がすべて確率ベクトルを形成する行列です。\n",
        "\n",
        "直感的なレベルでの確率操作は、上の例のように、操作中に何らかの形でランダム性が使用または導入されるものとして考えることができます。確率的操作の確率行列記述に関して、各列は、その列に対応する古典的状態入力が与えられた場合に生成される確率的状態のベクトル表現として見ることができます。\n",
        "\n",
        "確率行列は、常に確率ベクトルを確率ベクトルにマッピングする行列であると考えることもできます。つまり、確率行列は常に確率ベクトルを確率ベクトルにマッピングし、常に確率ベクトルを確率ベクトルにマッピングする行列は確率行列でなければなりません。\n",
        "\n",
        "最後に、確率的操作についての別の考え方は、確率的操作は決定的操作のランダムな選択であるということです。たとえば、上記の例の演算は、確率が $1/2$ である恒等関数または定数 0 関数のいずれかを適用すると考えることができます。これは方程式と一致します\n",
        "\n",
        "$$\n",
        "  \\begin{pmatrix}\n",
        "    1 & \\frac{1}{2}\\\\[1mm]\n",
        "    0 & \\frac{1}{2}\n",
        "  \\end{pmatrix}\n",
        "  = \\frac{1}{2}\n",
        "  \\begin{pmatrix}\n",
        "    1 & 0\\\\[1mm]\n",
        "    0 & 1\n",
        "  \\end{pmatrix}\n",
        "  + \\frac{1}{2}\n",
        "  \\begin{pmatrix}\n",
        "    1 & 1\\\\[1mm]\n",
        "    0 & 0\n",
        "  \\end{pmatrix}.\n",
        "$$\n",
        "\n",
        "このような表現は、古典的状態セットとその古典的状態セットで識別される行と列を含む確率行列を任意に選択する場合に常に可能です。\n",
        "\n",
        "#### 確率演算の構成\n",
        "\n",
        "$\\mathsf{X}$ が古典的状態集合 $\\Sigma$ を持つシステムであり、$M_1,\\ldots,M_n$ がシステム $\\mathsf{X}$ 上の確率的操作を表す確率行列であると仮定します。\n",
        "\n",
        "最初の演算 $M_1$ が確率ベクトル $u$ で表される確率状態に適用される場合、結果の確率状態はベクトル $M_1 u$ で表されます。次に、この新しい確率演算に 2 番目の確率演算 $M_2$ を適用すると、確率ベクトル、確率ベクトルを取得します\n",
        "\n",
        "$$\n",
        "  M_2 (M_1 u) = (M_2 M_1) u.\n",
        "$$\n",
        "\n",
        "この等価性は、行列の乗算 (特殊な場合として行列とベクトルの乗算を含む) が[結合](gloss:associative)演算であるという事実から導かれます。したがって、最初に $M_1$ を適用し、次に $M_2$ を適用する、1 番目と 2 番目の確率演算[を合成する](gloss:composing)ことによって得られる確率演算は、行列 $M_2 M_1$ によって表され、必然的に確率的になります。\n",
        "\n",
        "より一般的には、行列 $M_1,\\ldots,M_n$ で表される確率演算をこの順序で構成します。つまり、$M_1$ が最初に適用され、$M_2$ が 2 番目に適用され、以下同様に $M_n$ が最後に適用されます。行列で表される\n",
        "\n",
        "$$\n",
        "  M_n \\,\\cdots\\, M_1.\n",
        "$$\n",
        "\n",
        "ここで順序付けが重要であることに注意してください。行列の乗算は結合的ですが、一般に[可換](gloss:commutative)演算ではありません。\n",
        "\n",
        "たとえば、\n",
        "\n",
        "$$\n",
        "  M_1 = \n",
        "  \\begin{pmatrix}\n",
        "    1 & 1\\\\[1mm]\n",
        "    0 & 0\n",
        "  \\end{pmatrix}\n",
        "  \\quad\\text{and}\\quad\n",
        "  M_2 =\n",
        "  \\begin{pmatrix}\n",
        "    0 & 1\\\\[1mm]\n",
        "    1 & 0\n",
        "  \\end{pmatrix},\n",
        "$$\n",
        "\n",
        "それから\n",
        "\n",
        "$$\n",
        "  M_2 M_1 = \n",
        "  \\begin{pmatrix}\n",
        "    0 & 0 \\\\[1mm]\n",
        "    1 & 1\n",
        "  \\end{pmatrix}\n",
        "  \\quad\\text{and}\\quad\n",
        "  M_1 M_2 =\n",
        "  \\begin{pmatrix}\n",
        "    1 & 1\\\\[1mm]\n",
        "    0 & 0\n",
        "  \\end{pmatrix}.\n",
        "$$\n",
        "\n",
        "つまり、確率演算を構成する順序が重要です。構成内で演算を適用する順序を変更すると、結果の演算が変わる可能性があります。"
      ]
    },
    {
      "cell_type": "markdown",
      "id": "a6cd0323",
      "metadata": {
      },
      "source": [
        "## 2. 量子情報<a id=\"single-systems-quantum\"></a>\n",
        "\n",
        "![トランプのデッキのイラスト。](images/single-systems/quantum-information.png)\n",
        "\n",
        "ここで、量子情報に移ります。ここでは、考慮しているシステムの状態 (この場合は*量子状態*) を表すベクトルのタイプに異なる選択を行います。前のセクションと同様に、古典的状態の有限で空でない集合を持つシステムを扱い、そのセクションで導入された表記法の多くを利用します。"
      ]
    },
    {
      "cell_type": "markdown",
      "id": "897e71c0",
      "metadata": {
      },
      "source": [
        "### 2.1 量子状態ベクトル<a id=\"single-systems-quantum-states\"></a>\n",
        "\n",
        "システムの*量子状態は*、確率状態と同様に、列ベクトルで表されます。前と同様に、ベクトルのインデックスはシステムの古典的な状態をラベル付けします。量子状態を表すベクトルは、次の 2 つの特性によって特徴付けられます。\n",
        "\n",
        "1. 量子状態ベクトルのエントリは*複素数*です。\n",
        "2. 量子状態ベクトルのエントリの*絶対値の 2 乗の*合計は、$1.$ に等しくなければなりません。\n",
        "\n",
        "したがって、確率的な場合とは対照的に、量子状態を表すベクトルは非負の実数エントリを持つ必要はなく、(エントリの合計ではなく) エントリの絶対値の 2 乗の合計が $1.$ に等しくなければなりません。これらの変化は単純ですが、量子情報と古典情報の間にあらゆる違いを生じさせます。量子コンピューターによる高速化や通信プロトコルの改善は、最終的にはこれらの単純な数学的変更から生まれます。\n",
        "\n",
        "列ベクトルの*ユークリッド ノルム*\n",
        "\n",
        "$$\n",
        "  v = \\begin{pmatrix}\n",
        "    \\alpha_1\\\\\n",
        "    \\vdots\\\\\n",
        "    \\alpha_n\n",
        "  \\end{pmatrix}\n",
        "$$\n",
        "\n",
        "は次のように表され、定義されます。\n",
        "\n",
        "$$\n",
        "  \\| v \\| = \\sqrt{\\sum_{k=1}^n |\\alpha_k|^2}.\n",
        "$$\n",
        "\n",
        "したがって、量子状態ベクトルの絶対値の 2 乗の合計が $1$ に等しいという条件は、$1$ に等しいユークリッド ノルムを持つベクトルと等価です。つまり、量子状態ベクトルはユークリッド ノルムに関する*単位ベクトル*です。\n",
        "\n",
        "#### 量子ビット状態の例\n",
        "\n",
        "*量子ビット*という用語は、古典的な状態セットが ${0,1}$ である量子システムを指します。つまり、量子ビットは実際には単なるビットですが、この名前を使用することで、このビットが量子状態にあり得ることを明示的に認識します。\n",
        "\n",
        "これらは量子ビットの量子状態の例です。\n",
        "\n",
        "$$\n",
        "  \\begin{pmatrix}\n",
        "    1\\\\[2mm]\n",
        "    0\n",
        "  \\end{pmatrix}\n",
        "  = \\vert 0\\rangle\n",
        "  \\quad\\text{and}\\quad\n",
        "  \\begin{pmatrix}\n",
        "    0\\\\[2mm]\n",
        "    1\n",
        "  \\end{pmatrix}\n",
        "  = \\vert 1\\rangle,\n",
        "$$\n",
        "\n",
        "$$\n",
        "\\begin{pmatrix}\n",
        "\\frac{1}{\\sqrt{2}}\\\\[2mm]\n",
        "\\frac{1}{\\sqrt{2}}\n",
        "\\end{pmatrix}\n",
        "= \\frac{1}{\\sqrt{2}}\\,\\vert 0\\rangle + \\frac{1}{\\sqrt{2}}\\,\\vert 1\\rangle,\n",
        "\\tag{1}\n",
        "$$と$$\n",
        "\\begin{pmatrix}\n",
        "\\frac{1+2i}{3}\\\\[2mm]\n",
        "-\\frac{2}{3}\n",
        "\\end{pmatrix}\n",
        "= \\frac{1+2i}{3}\\,\\vert 0\\rangle - \\frac{2}{3}\\,\\vert 1\\rangle.\n",
        "$$\n",
        "\n",
        "最初の 2 つの例 $\\vert 0\\rangle$ と $\\vert 1\\rangle$ は、標準基底要素が有効な量子状態ベクトルであることを示しています。それらのエントリは複素数です (これらの数値の虚数部はたまたま $0$ です) ) およびエントリの絶対値の 2 乗の合計を計算すると、次の結果が得られます。\n",
        "\n",
        "$$\n",
        "  \\vert 1\\vert^2 + \\vert 0\\vert^2 = 1\n",
        "  \\quad\\text{and}\\quad\n",
        "  \\vert 0\\vert^2 + \\vert 1\\vert^2 = 1,\n",
        "$$\n",
        "\n",
        "要求に応じ。古典的な設定と同様に、量子状態ベクトル $\\vert 0\\rangle$ および $\\vert 1\\rangle$ を、それぞれ古典状態 $0$ または $1$ にある量子ビットと確実に関連付けます。\n",
        "\n",
        "他の 2 つの例では、やはり複素数のエントリがあり、エントリの絶対値の 2 乗の合計を計算すると、次の結果が得られます。\n",
        "\n",
        "$$\n",
        "  \\biggl\\vert\\frac{1}{\\sqrt{2}}\\biggr\\vert^2 +\n",
        "  \\biggl\\vert\\frac{1}{\\sqrt{2}}\\biggr\\vert^2 = \\frac{1}{2} + \\frac{1}{2} = 1\n",
        "$$\n",
        "\n",
        "と\n",
        "\n",
        "$$\n",
        "  \\biggl\\vert \\frac{1+2i}{3} \\biggr\\vert^2 +\n",
        "  \\biggl\\vert -\\frac{2}{3} \\biggr\\vert^2 = \\frac{5}{9} + \\frac{4}{9} = 1.\n",
        "$$\n",
        "\n",
        "したがって、これらは有効な量子状態ベクトルです。これらは状態 $\\vert 0 \\rangle$ と $\\vert 1 \\rangle$ の線形結合であることに注意してください。これらの状態は $0$ 状態と $1$ 状態*を重ね合わせたもの*であるとよく言われます。量子状態のコンテキスト内では、「重ね合わせ」と「線形結合」は本質的に同義です。\n",
        "\n",
        "上記の量子ビット状態ベクトルの $(1)$ の例は非常によく見られます。これは*プラス状態*と呼ばれ、次のように表されます。\n",
        "\n",
        "$$\n",
        "  \\vert + \\rangle = \\frac{1}{\\sqrt{2}} \\vert 0\\rangle + \\frac{1}{\\sqrt{2}} \\vert 1\\rangle.\n",
        "$$\n",
        "\n",
        "という表記も使います\n",
        "\n",
        "$$\n",
        "  \\vert - \\rangle = \\frac{1}{\\sqrt{2}} \\vert 0\\rangle - \\frac{1}{\\sqrt{2}} \\vert 1\\rangle\n",
        "$$\n",
        "\n",
        "2 番目のエントリが正ではなく負である、関連する量子状態ベクトルを参照します。この状態を*マイナス状態と*呼びます。古典的な状態を参照するもの以外の何らかのシンボルがケット内に現れるこの種の表記法は一般的です。ベクトルに名前を付けるために、ケット内で任意の名前を使用できます。\n",
        "\n",
        "実際、必ずしも標準の基底ベクトルであるとは限らない任意のベクトルを参照するために、$\\vert\\psi\\rangle$ などの表記法、または $\\psi$ の代わりに他の名前を使用するのが非常に一般的です。 $\\psi $ は単なるベクトルの名前ですが、ket 内に置かれているため、ベクトルであることが強調されます。\n",
        "\n",
        "ベクトル $\\vert \\psi \\rangle$ があり、そのインデックスが古典的状態集合 $\\Sigma$ に対応し、 $a\\in\\Sigma$ がこの古典的状態集合の要素である場合、(行列) 積 $\\langle a\\vert \\vert \\psi\\rangle$ は、インデックスが $a$ に対応するベクトル $\\vert \\psi \\rangle$ のエントリと等しくなります。 $\\vert \\psi \\rangle$ が標準基底ベクトルである場合と同様に、次の目的のために $\\langle a\\vert \\vert \\psi\\rangle$ ではなく $\\langle a \\vert \\psi \\rangle$ と書きます。読みやすさ。\n",
        "\n",
        "たとえば、$\\Sigma = {0,1}$ の場合、\n",
        "\n",
        "$$\n",
        "\\vert \\psi \\rangle =\n",
        "\\frac{1+2i}{3} \\vert 0\\rangle - \\frac{2}{3} \\vert 1\\rangle\n",
        "= \\begin{pmatrix}\n",
        "    \\frac{1+2i}{3}\\\\[2mm]\n",
        "    -\\frac{2}{3}\n",
        "  \\end{pmatrix},\n",
        "  \\tag{2}\n",
        "$$\n",
        "\n",
        "それから\n",
        "\n",
        "$$\n",
        "  \\langle 0 \\vert \\psi \\rangle = \\frac{1+2i}{3}\n",
        "  \\quad\\text{and}\\quad\n",
        "  \\langle 1 \\vert \\psi \\rangle = -\\frac{2}{3}.\n",
        "$$\n",
        "\n",
        "この表記法を使用する場合、 $\\langle \\psi \\vert$ は、列ベクトル $\\vert\\psi\\rangle$ の*共役転置*を行うことによって得られる行ベクトルを指すことを理解する必要があります。列ベクトルから行ベクトルへ)、各エントリはその複素共役に置き換えられます。\n",
        "\n",
        "たとえば、 $\\vert\\psi\\rangle$ が $(2)$ で定義されたベクトルの場合、\n",
        "\n",
        "$$\n",
        "\\langle\\psi\\vert = \\frac{1-2i}{3} \\langle 0\\vert - \\frac{2}{3} \\langle 1\\vert\n",
        "= \\begin{pmatrix}\n",
        "    \\frac{1-2i}{3} &\n",
        "    -\\frac{2}{3}\n",
        "  \\end{pmatrix}.\n",
        "$$\n",
        "\n",
        "転置に加えて複素共役を採用する理由は、レッスン 3 で*内積について*説明するときにさらに明確になります。"
      ]
    },
    {
      "cell_type": "markdown",
      "id": "a32a6551",
      "metadata": {
      },
      "source": [
        "#### 他の系の量子状態\n",
        "\n",
        "任意の古典状態集合を持つ系の量子状態を考えることができます。\n",
        "\n",
        "たとえば、電動ファン スイッチの量子状態ベクトルは次のとおりです。\n",
        "\n",
        "$$\n",
        "  \\begin{pmatrix}\n",
        "    \\frac{1}{2}\\\\[1mm]\n",
        "    0 \\\\[1mm]\n",
        "    -\\frac{i}{2}\\\\[1mm]\n",
        "    \\frac{1}{\\sqrt{2}}\n",
        "  \\end{pmatrix}\n",
        "  =    \n",
        "  \\frac{1}{2} \\vert\\mathrm{high}\\rangle\n",
        "  - \\frac{i}{2} \\vert\\mathrm{low}\\rangle\n",
        "  + \\frac{1}{\\sqrt{2}} \\vert\\mathrm{off}\\rangle.\n",
        "$$\n",
        "\n",
        "ここでの仮定は、古典的な状態が*high* 、 *medium* 、 *low* 、 *off*の順序で配置されることです。電動ファンスイッチの量子状態を考慮したい特別な理由はないかもしれませんが、原理的には可能です。\n",
        "\n",
        "これは別の例です。今回は、古典的な状態が $0、1、\\ldots、9$ である量子 10 進数です。\n",
        "\n",
        "$$\n",
        "  \\frac{1}{\\sqrt{385}}\n",
        "  \\begin{pmatrix}\n",
        "    1\\\\\n",
        "    2\\\\\n",
        "    3\\\\\n",
        "    4\\\\\n",
        "    5\\\\\n",
        "    6\\\\\n",
        "    7\\\\\n",
        "    8\\\\\n",
        "    9\\\\\n",
        "    10\n",
        "  \\end{pmatrix}\n",
        "  =\n",
        "  \\frac{1}{\\sqrt{385}}\\sum_{k = 0}^9 (k+1) \\vert k \\rangle.\n",
        "$$\n",
        "\n",
        "この例は、ディラック表記を使用して状態ベクトルを記述する便利さを示しています。この特定の例では、列ベクトル表現は単に面倒なだけですが、より多くの古典的な状態が存在する場合、それは使用できなくなります。対照的に、ディラック表記は、コンパクトな形式での大きくて複雑なベクトルの正確な記述をサポートします。\n",
        "\n",
        "ディラック表記法では、ベクターのさまざまな側面が*不確定で*ある (未知またはまだ確立されていないことを意味する) 場合のベクターの発現も可能になります。たとえば、任意の古典的状態集合 $\\Sigma$ について、量子状態ベクトルを考慮できます。\n",
        "\n",
        "$$\n",
        "  \\frac{1}{\\sqrt{|\\Sigma|}} \\sum_{a\\in\\Sigma} \\vert a \\rangle,\n",
        "$$\n",
        "\n",
        "これは $\\Sigma$ の古典的状態の一様な重ね合わせです。 (ここで、$\\vert\\Sigma\\vert$ という表記は、$\\Sigma$ 内の要素の数を指します。)\n",
        "\n",
        "後のレッスンでは、列ベクトルの使用が非現実的または不可能である、より複雑な量子状態ベクトルの表現に遭遇します。実際、状態ベクトルの列ベクトル表現はほとんど放棄しますが、エントリ数が少ないベクトル (多くの場合、例のコンテキストで) を除き、エントリを明示的に表示して調べることが役立つ場合があります。\n",
        "\n",
        "ディラック表記を使用して状態ベクトルを表現する方が一般に便利である理由がもう 1 つあります。それは、古典状態の順序 (または同等に、古典状態とベクトル インデックス間の対応関係) を明示的に指定する必要性が軽減されるからです。たとえば、古典的状態セット ${\\clubsuit,\\diamondsuit,\\heartsuit,\\spadesuit}$ を持つシステムの量子状態ベクトルは次のようになります。\n",
        "\n",
        "$$\n",
        "    \\frac{1}{2} \\vert\\clubsuit\\rangle\n",
        "  + \\frac{i}{2} \\vert\\diamondsuit\\rangle\n",
        "  - \\frac{1}{2} \\vert\\heartsuit\\rangle\n",
        "  - \\frac{i}{2} \\vert\\spadesuit\\rangle,\n",
        "$$\n",
        "\n",
        "はこの式によって明確に記述されており、式を理解するためにこの古典的な状態セットの順序を選択したり指定したりする必要は実際にはありません。この場合、標準のカードスーツの順序を指定することは難しくありません。たとえば、$\\clubsuit$、$\\diamondsuit$、$\\heartsuit$、$\\spadesuit$ のように順序付けることができます。この特定の順序を選択した場合、上記の量子状態ベクトルは列ベクトルで表されます。\n",
        "\n",
        "$$\n",
        "\\begin{pmatrix}\n",
        " \\frac{1}{2}\\\\[2mm]\n",
        " \\frac{i}{2}\\\\[2mm]\n",
        " -\\frac{1}{2}\\\\[2mm]\n",
        " -\\frac{i}{2}\n",
        "\\end{pmatrix}.\n",
        "$$\n",
        "\n",
        "ただし、一般に、古典状態セットがどのように順序付けされるかという問題を単純に無視し、量子状態ベクトルが古典状態によって直接インデックス付けされるという見解を取るのが便利です。"
      ]
    },
    {
      "cell_type": "markdown",
      "id": "b44fece2",
      "metadata": {
      },
      "source": [
        "### 2.2 量子状態の測定<a id=\"single-systems-quantum-measure\"></a>\n",
        "\n",
        "次に、*標準基底測定*として知られる単純なタイプの測定に焦点を当てて、量子状態が*測定される*ときに何が起こるかを考えてみましょう。 (測定にはより一般的な概念がありますが、これについては後で説明します。)\n",
        "\n",
        "確率的設定と同様に、量子状態にあるシステムが測定される場合、測定を実行する観測者には量子状態ベクトルが見えず、むしろ何らかの古典状態が見えます。この意味で、測定は量子情報と古典情報の間のインターフェースとして機能し、それを通じて古典情報が量子状態から抽出されます。\n",
        "\n",
        "ルールは単純です。量子状態が測定される場合、システムの各古典状態は、その古典状態に対応する量子状態ベクトルのエントリの*絶対値の 2 乗*に等しい確率で生じます。これは量子力学では*ボルン規則*として知られています。このルールは、異なる古典状態の測定結果の確率の合計が $1.$ になることを意味するため、量子状態ベクトルのエントリの絶対値の 2 乗の合計が 1 になるという要件と一致していることに注意してください。\n",
        "\n",
        "たとえば、プラスの状態を測定する\n",
        "\n",
        "$$\n",
        "  \\vert + \\rangle = \n",
        "  \\frac{1}{\\sqrt{2}} \\vert 0 \\rangle\n",
        "  + \\frac{1}{\\sqrt{2}} \\vert 1 \\rangle\n",
        "$$\n",
        "\n",
        "結果は、$0$ と $1,$ という 2 つの可能な結果が得られ、確率は次のようになります。\n",
        "\n",
        "$$\n",
        "  \\operatorname{Pr}(\\text{outcome is 0})\n",
        "  = \\bigl\\vert \\langle 0 \\vert + \\rangle \\bigr\\vert^2\n",
        "  = \\biggl\\vert \\frac{1}{\\sqrt{2}} \\biggr\\vert^2\n",
        "  = \\frac{1}{2}\n",
        "$$\n",
        "\n",
        "$$\n",
        "  \\operatorname{Pr}(\\text{outcome is 1})\n",
        "  = \\bigl\\vert \\langle 1 \\vert + \\rangle \\bigr\\vert^2\n",
        "  = \\biggl\\vert \\frac{1}{\\sqrt{2}} \\biggr\\vert^2\n",
        "  = \\frac{1}{2}\n",
        "$$\n",
        "\n",
        "興味深いことに、マイナス状態を測定すると\n",
        "\n",
        "$$\n",
        "  \\vert - \\rangle = \n",
        "  \\frac{1}{\\sqrt{2}} \\vert 0 \\rangle\n",
        "  - \\frac{1}{\\sqrt{2}} \\vert 1 \\rangle\n",
        "$$\n",
        "\n",
        "2 つの結果の確率はまったく同じになります。\n",
        "\n",
        "$$\n",
        "  \\operatorname{Pr}(\\text{outcome is 0})\n",
        "  = \\bigl\\vert \\langle 0 \\vert - \\rangle \\bigr\\vert^2\n",
        "  = \\biggl\\vert \\frac{1}{\\sqrt{2}} \\biggr\\vert^2\n",
        "  = \\frac{1}{2}\n",
        "$$\n",
        "\n",
        "$$\n",
        "  \\operatorname{Pr}(\\text{outcome is 1})\n",
        "  = \\bigl\\vert \\langle 1 \\vert - \\rangle \\bigr\\vert^2\n",
        "  = \\biggl\\vert -\\frac{1}{\\sqrt{2}} \\biggr\\vert^2\n",
        "  = \\frac{1}{2}\n",
        "$$\n",
        "\n",
        "これは、標準的な基準測定に関する限り、プラスとマイナスの状態がまったく同じであることを示唆しています。では、なぜ区別をする必要があるのでしょうか?この質問については、以下のセクション 2.3 で取り上げます。\n",
        "\n",
        "最後の例として、状態を測定する\n",
        "\n",
        "$$\n",
        "  \\vert \\psi \\rangle = \\frac{1+2i}{3} \\vert 0\\rangle - \\frac{2}{3} \\vert 1\\rangle\n",
        "$$\n",
        "\n",
        "によって与えられる確率がある\n",
        "\n",
        "$$\n",
        "  \\operatorname{Pr}(\\text{outcome is 0})\n",
        "  = \\bigl\\vert \\langle 0 \\vert \\psi \\rangle \\bigr\\vert^2\n",
        "  = \\biggl\\vert \\frac{1+2i}{3} \\biggr\\vert^2\n",
        "  = \\frac{5}{9},\n",
        "$$\n",
        "\n",
        "と\n",
        "\n",
        "$$\n",
        "  \\operatorname{Pr}(\\text{outcome is 1})\n",
        "  = \\bigl\\vert \\langle 1 \\vert \\psi \\rangle \\bigr\\vert^2\n",
        "  = \\biggl\\vert -\\frac{2}{3} \\biggr\\vert^2\n",
        "  = \\frac{4}{9}.\n",
        "$$\n",
        "\n",
        "もちろん、量子状態 $\\vert 0\\rangle$ を測定すると、確実に古典状態 $0$ が得られ、同様に量子状態 $\\vert 1\\rangle$ を測定すると、確実に古典状態 $1$ が得られます。これは、以前に示唆されたように、システムが対応する古典状態に*ある*場合のこれらの量子状態の同定と一致します。"
      ]
    },
    {
      "cell_type": "markdown",
      "id": "dbbdd27b",
      "metadata": {
        "formulas": {
          "conjugate-transpose": {
            "meaning": "This symbol represents the conjugate transpose.<br><a href=\"https://en.wikipedia.org/wiki/Conjugate_transpose\">Read more</a>.",
            "say": "\"Dagger\""
          },
          "identity-matrix": {
            "meaning": "This is the *identity matrix*, which represents the operation that has no effect (i.e., the identity operation)."
          }
        }
      },
      "source": [
        "### 2.3 単一演算<a id=\"single-systems-unitary\"></a>\n",
        "\n",
        "これまでのところ、量子情報が古典的な情報と根本的に異なる理由は明らかではないかもしれません。つまり、量子状態が測定されるとき、各古典状態を取得する確率は、対応するベクトル エントリの絶対値の 2 乗によって与えられます。したがって、これらの確率を単純に確率ベクトルに記録しないのはなぜでしょうか。\n",
        "\n",
        "答えは、少なくとも部分的には、量子状態に対して実行できる一連の許容*操作*が古典的な情報の場合とは異なるということです。確率的設定と同様に、量子状態の操作は線形マッピングです。ただし、量子状態ベクトルの操作は、古典的な場合のように確率行列で表されるのではなく、*ユニタリ*行列で表されます。\n",
        "\n",
        "複素数要素を持つ正方行列 $U$ は、次の方程式を満たす場合、ユニタリです。\n",
        "\n",
        "$$\n",
        "  \\begin{aligned}\n",
        "    U U^{\\dagger} &= \\class{identity-matrix}{\\mathbb{1}} \\\\\n",
        "    U^{\\class{conjugate-transpose}{\\dagger}} U &= \\class{identity-matrix}{\\mathbb{1}}.\n",
        "  \\end{aligned}\n",
        "$$\n",
        "\n",
        "ここで、$\\mathbb{1}$ は単位行列、$U^{\\dagger}$ は $U$ の*共役転置*、つまり $U$ を転置して各エントリの複素共役をとることによって得られる行列を意味します。 $$\n",
        "U^{\\dagger} = \\overline{U^T}\n",
        "$$上記の方程式のどちらかの等式が真である場合、もう一方も真である必要があります。どちらの等式も、$U^{\\dagger}$ が $U$ の逆関数であることと等価です。\n",
        "\n",
        "$$\n",
        "  U^{-1} = U^{\\dagger}.\n",
        "$$\n",
        "\n",
        "(警告: $M$ が正方行列でない場合、$M^{\\dagger} M = \\mathbb{1}$ および $MM^{\\dagger} \\not= \\mathbb{1}$ となる可能性がありますたとえば、上の最初の方程式の 2 つの等式が等価であることは、正方行列の場合にのみ当てはまります。)\n",
        "\n",
        "$U$ がユニタリーであるという条件は、$U$ を乗算してもベクトルのユークリッド ノルムが変更されないという条件と同じです。つまり、 $n\\times n$ 行列 $U$ は、 $\\| の場合にのみユニタリです。 U \\vert \\psi \\rangle \\| = \\|\\vert \\psi \\rangle \\|$ 複素数エントリを持つ $n$ 次元の列ベクトル $\\vert \\psi \\rangle$ ごとに。したがって、すべての量子状態ベクトルの集合は、$1,$ に等しいユークリッド ノルムを持つベクトルの集合と同じであるため、量子状態ベクトルにユニタリ行列を乗算すると、別の量子状態ベクトルが生成されます。\n",
        "\n",
        "実際、ユニタリ行列はまさに、量子状態ベクトルを他の量子状態ベクトルに変換する線形マッピングのセットです。ここで、演算が確率行列に関連付けられている古典的な確率の場合と似ていることに注目してください。確率行列は常に確率ベクトルを確率ベクトルに変換します。\n",
        "\n",
        "<!-- ::: q-block.exercise -->\n",
        "\n",
        "### 簡単なクイズ\n",
        "\n",
        "<!-- ::: q-quiz(goal=\"ss-quiz-0\") -->\n",
        "\n",
        "<!-- ::: .question -->\n",
        "\n",
        "これらの行列のうちユニタリ行列はどれですか?\n",
        "\n",
        "<!-- ::: -->\n",
        "\n",
        "<!-- ::: .option -->\n",
        "\n",
        "1. $\\begin{pmatrix} 1 &amp; 0 \\\\ 1 &amp; 0 \\end{pmatrix}$\n",
        "\n",
        "<!-- ::: -->\n",
        "\n",
        "<!-- ::: .option -->\n",
        "\n",
        "1. $\\begin{pmatrix} 0 &amp; \\frac{1}{2} \\\\ \\frac{-i}{2} &amp; 0 \\end{pmatrix}$\n",
        "\n",
        "<!-- ::: -->\n",
        "\n",
        "<!-- ::: .option(correct) -->\n",
        "\n",
        "1. $\\begin{pmatrix} 1 &amp; 0 \\\\ 0 &amp; i \\end{pmatrix}$\n",
        "\n",
        "<!-- ::: -->\n",
        "\n",
        "<!-- ::: -->\n",
        "\n",
        "<!-- ::: -->"
      ]
    },
    {
      "cell_type": "markdown",
      "id": "50da89b7",
      "metadata": {
      },
      "source": [
        "#### 量子ビットに対するユニタリ演算の重要な例\n",
        "\n",
        "次のリストでは、量子ビットに対するいくつかの重要なユニタリ演算について説明します。\n",
        "\n",
        "1. *パウリ作戦。* 4 つのパウリ行列は次のとおりです。\n",
        "\n",
        "    $$\n",
        "     \\mathbb{1} =\n",
        "     \\begin{pmatrix}\n",
        "       1 & 0\\\\\n",
        "       0 & 1\n",
        "     \\end{pmatrix},\n",
        "     \\quad\n",
        "     \\sigma_x =\n",
        "     \\begin{pmatrix}\n",
        "       0 & 1\\\\\n",
        "       1 & 0\n",
        "     \\end{pmatrix},\n",
        "     \\quad\n",
        "     \\sigma_y =\n",
        "     \\begin{pmatrix}\n",
        "       0 & -i\\\\\n",
        "       i & 0\n",
        "     \\end{pmatrix},\n",
        "     \\quad\n",
        "     \\sigma_z =\n",
        "     \\begin{pmatrix}\n",
        "       1 & 0\\\\\n",
        "       0 & -1\n",
        "     \\end{pmatrix}.\n",
        "   $$\n",
        "\n",
        "    よく使用する一般的な表記法は、$X = \\sigma_x$、$Y = \\sigma_y$、$Z = \\sigma_z$ です。ただし、$X$、$Y$、$Z という文字には注意してください。 $ は他の目的にもよく使用されます。 $\\sigma_x$ (または $X$) 演算は、ビットに対して次のアクションを引き起こすため、*ビット フリップ*または*NOT 演算*とも呼ばれます。\n",
        "\n",
        "    $$\n",
        "     \\sigma_x \\vert 0\\rangle = \\vert 1\\rangle \n",
        "     \\quad \\text{and} \\quad\n",
        "     \\sigma_x \\vert 1\\rangle = \\vert 0\\rangle.\n",
        "   $$\n",
        "\n",
        "    $\\sigma_z$ (または $Z$) 操作は、次のアクションがあるため、*位相反転*とも呼ばれます。\n",
        "\n",
        "    $$\n",
        "     \\sigma_z \\vert 0\\rangle = \\vert 0\\rangle\n",
        "     \\quad \\text{and} \\quad\n",
        "     \\sigma_z \\vert 1\\rangle = - \\vert 1\\rangle.\n",
        "   $$\n",
        "\n",
        "2. *アダマール作戦*。アダマール演算は次の行列で説明されます。\n",
        "\n",
        "    $$\n",
        "     H = \\begin{pmatrix}\n",
        "       \\frac{1}{\\sqrt{2}} & \\frac{1}{\\sqrt{2}} \\\\[2mm]\n",
        "       \\frac{1}{\\sqrt{2}} & -\\frac{1}{\\sqrt{2}}\n",
        "     \\end{pmatrix}.\n",
        "   $$\n",
        "\n",
        "3. *フェーズ操作。*位相演算は行列で記述される演算です。\n",
        "\n",
        "    $$\n",
        "     P_{\\theta} =\n",
        "     \\begin{pmatrix}\n",
        "       1 & 0\\\\\n",
        "       0 & e^{i\\theta}\n",
        "     \\end{pmatrix}\n",
        "   $$\n",
        "\n",
        "    実数 $\\theta$ の任意の選択に対して。操作\n",
        "\n",
        "    $$\n",
        "     S = P_{\\pi/2} =\n",
        "     \\begin{pmatrix}\n",
        "       1 & 0\\\\\n",
        "       0 & i\n",
        "     \\end{pmatrix}\n",
        "     \\quad \\text{and} \\quad\n",
        "     T = P_{\\pi/4} =\n",
        "     \\begin{pmatrix}\n",
        "       1 & 0\\\\\n",
        "       0 & \\frac{1 + i}{\\sqrt{2}}\n",
        "     \\end{pmatrix}\n",
        "   $$\n",
        "\n",
        "    は特に重要な例です。他の例としては、$\\mathbb{1} = P_0$ や $\\sigma_z = P_{\\pi}$ などがあります。\n",
        "\n",
        "定義したばかりの行列はすべてユニタリーであるため、単一の量子ビットに対する量子演算を表します。\n",
        "\n",
        "たとえば、$H$ がユニタリであることを検証する計算を次に示します。\n",
        "\n",
        "$$\n",
        "  \\begin{aligned}\n",
        "  \\begin{pmatrix}\n",
        "    \\frac{1}{\\sqrt{2}} & \\frac{1}{\\sqrt{2}} \\\\[2mm]\n",
        "    \\frac{1}{\\sqrt{2}} & -\\frac{1}{\\sqrt{2}}\n",
        "  \\end{pmatrix}^{\\dagger}\n",
        "  \\begin{pmatrix}\n",
        "    \\frac{1}{\\sqrt{2}} & \\frac{1}{\\sqrt{2}} \\\\[2mm]\n",
        "    \\frac{1}{\\sqrt{2}} & -\\frac{1}{\\sqrt{2}}\n",
        "  \\end{pmatrix}\n",
        "  & =\n",
        "  \\begin{pmatrix}\n",
        "    \\frac{1}{\\sqrt{2}} & \\frac{1}{\\sqrt{2}} \\\\[2mm]\n",
        "    \\frac{1}{\\sqrt{2}} & -\\frac{1}{\\sqrt{2}}\n",
        "  \\end{pmatrix}\n",
        "  \\begin{pmatrix}\n",
        "    \\frac{1}{\\sqrt{2}} & \\frac{1}{\\sqrt{2}} \\\\[2mm]\n",
        "    \\frac{1}{\\sqrt{2}} & -\\frac{1}{\\sqrt{2}}\n",
        "  \\end{pmatrix}\\\\[2mm]\n",
        "  & = \\begin{pmatrix}\n",
        "    \\frac{1}{2} + \\frac{1}{2} & \\frac{1}{2} - \\frac{1}{2}\\\\[2mm]\n",
        "    \\frac{1}{2} - \\frac{1}{2} & \\frac{1}{2} + \\frac{1}{2}\n",
        "  \\end{pmatrix}\\\\[2mm]\n",
        "  & =\n",
        "  \\begin{pmatrix}\n",
        "    1 & 0\\\\\n",
        "    0 & 1\n",
        "  \\end{pmatrix}.\n",
        "  \\end{aligned}\n",
        "$$\n",
        "\n",
        "以下は、いくつかの量子ビット状態ベクトルに対するアダマール演算の動作です。\n",
        "\n",
        "$$\n",
        "   \\begin{aligned}\n",
        "  H \\vert 0 \\rangle & = \n",
        "  \\begin{pmatrix}\n",
        "    \\frac{1}{\\sqrt{2}} & \\frac{1}{\\sqrt{2}} \\\\[2mm]\n",
        "    \\frac{1}{\\sqrt{2}} & -\\frac{1}{\\sqrt{2}}\n",
        "  \\end{pmatrix}\n",
        "  \\begin{pmatrix}\n",
        "    1\\\\[2mm]\n",
        "    0\n",
        "  \\end{pmatrix}\n",
        "  =\n",
        "  \\begin{pmatrix}\n",
        "    \\frac{1}{\\sqrt{2}}\\\\[2mm]\n",
        "    \\frac{1}{\\sqrt{2}}\n",
        "  \\end{pmatrix}\n",
        "  = \\vert + \\rangle,\\\\[2mm]\n",
        "  H \\vert 1 \\rangle\n",
        "  & =\n",
        "  \\begin{pmatrix}\n",
        "    \\frac{1}{\\sqrt{2}} & \\frac{1}{\\sqrt{2}} \\\\[2mm]\n",
        "    \\frac{1}{\\sqrt{2}} & -\\frac{1}{\\sqrt{2}}\n",
        "  \\end{pmatrix}\n",
        "  \\begin{pmatrix}\n",
        "    0\\\\[2mm]\n",
        "    1\n",
        "  \\end{pmatrix}\n",
        "  =\n",
        "  \\begin{pmatrix}\n",
        "    \\frac{1}{\\sqrt{2}}\\\\[2mm]\n",
        "    -\\frac{1}{\\sqrt{2}}\n",
        "  \\end{pmatrix}\n",
        "  = \\vert - \\rangle,\\\\[2mm]\n",
        "  H \\vert + \\rangle\n",
        "  & =\n",
        "  \\begin{pmatrix}\n",
        "    \\frac{1}{\\sqrt{2}} & \\frac{1}{\\sqrt{2}} \\\\[2mm]\n",
        "    \\frac{1}{\\sqrt{2}} & -\\frac{1}{\\sqrt{2}}\n",
        "  \\end{pmatrix}\n",
        "  \\begin{pmatrix}\n",
        "    \\frac{1}{\\sqrt{2}}\\\\[2mm]\n",
        "    \\frac{1}{\\sqrt{2}}\n",
        "  \\end{pmatrix}\n",
        "  =\n",
        "  \\begin{pmatrix}\n",
        "    1\\\\[2mm]\n",
        "    0\n",
        "  \\end{pmatrix}\n",
        "  = \\vert 0 \\rangle,\\\\[2mm]\n",
        "  H \\vert - \\rangle\n",
        "  & =\n",
        "  \\begin{pmatrix}\n",
        "    \\frac{1}{\\sqrt{2}} & \\frac{1}{\\sqrt{2}} \\\\[2mm]\n",
        "    \\frac{1}{\\sqrt{2}} & -\\frac{1}{\\sqrt{2}}\n",
        "  \\end{pmatrix}\n",
        "  \\begin{pmatrix}\n",
        "    \\frac{1}{\\sqrt{2}}\\\\[2mm]\n",
        "    -\\frac{1}{\\sqrt{2}}\n",
        "  \\end{pmatrix}\n",
        "  =\n",
        "  \\begin{pmatrix}\n",
        "    0\\\\[2mm]\n",
        "    1\n",
        "  \\end{pmatrix}\n",
        "  = \\vert 1 \\rangle\n",
        "  \\end{aligned}\n",
        "$$\n",
        "\n",
        "と\n",
        "\n",
        "$$\n",
        "  \\begin{aligned}\n",
        "    H \\biggl(\\frac{1+2i}{3} \\vert 0\\rangle - \\frac{2}{3} \\vert 1\\rangle\\biggr)\n",
        "    & =\n",
        "    \\begin{pmatrix}\n",
        "      \\frac{1}{\\sqrt{2}} & \\frac{1}{\\sqrt{2}} \\\\[2mm]\n",
        "      \\frac{1}{\\sqrt{2}} & -\\frac{1}{\\sqrt{2}}\n",
        "    \\end{pmatrix}\n",
        "    \\begin{pmatrix}\n",
        "      \\frac{1+2i}{3}\\\\[2mm]\n",
        "      -\\frac{2}{3}\n",
        "    \\end{pmatrix}\\\\[2mm]\n",
        "    & =\n",
        "    \\begin{pmatrix}\n",
        "      \\frac{-1+2i}{3\\sqrt{2}}\\\\[2mm]\n",
        "      \\frac{3+2i}{3\\sqrt{2}}\n",
        "    \\end{pmatrix}\\\\[2mm]\n",
        "    & =\n",
        "    \\frac{-1+2i}{3\\sqrt{2}} | 0 \\rangle\n",
        "    + \\frac{3+2i}{3\\sqrt{2}} | 1 \\rangle\n",
        "  \\end{aligned}\n",
        "$$\n",
        "\n",
        "これらの例の最後のものは重要ではありませんが、他の例はより簡潔に要約する価値があります。\n",
        "\n",
        "$$\n",
        "  \\begin{aligned}\n",
        "    H \\vert 0 \\rangle & = \\vert + \\rangle,\\\\[2mm]\n",
        "    H \\vert 1 \\rangle & = \\vert - \\rangle,\\\\[2mm]\n",
        "    H \\vert + \\rangle & = \\vert 0 \\rangle,\\\\[2mm]\n",
        "    H \\vert - \\rangle & = \\vert 1 \\rangle\n",
        "  \\end{aligned}\n",
        "$$\n",
        "\n",
        "$H\\vert +\\rangle = \\vert 0\\rangle$ および $H\\vert -\\rangle = \\vert 1\\rangle$ であるという事実を一時停止して検討する価値があります。量子ビットが 2 つの量子状態 $\\vert +\\rangle$ と $\\vert -\\rangle$ のいずれかで準備されているが、それがどちらであるかは不明である状況を考えてみましょう。どちらかの状態を測定すると、もう一方の状態と同じ出力分布が生成されます。$0$ と $1$ は両方とも同じ確率 $1/2 で現れます。$ したがって、これを行うと、2 つの状態 $\\vert +\\rangle$ と $\\ のどちらであるかについての情報は得られません。 vert -\\rangle$ は元々用意されていました。しかし、アダマール演算を適用して測定すると、元の状態が $\\vert +\\rangle$ であれば結果 $0$ が確実に得られ、元の状態が $ であれば再び結果 $1,$ が確実に得られます。 \\vert -\\rangle$。したがって、量子状態 $\\vert +\\rangle$ と $\\vert -\\rangle$ は*完全に*区別できます。これは、量子状態ベクトルの複素数エントリの符号の変化、より一般的には*位相*(伝統的に*引数*とも呼ばれる) の変化により、その状態が大きく変化する可能性があることを明らかにしています。\n",
        "\n",
        "次に別の例を示します。今回は、プラス状態に対する $T$ 操作のアクションです。\n",
        "\n",
        "$$\n",
        "  T \\vert +\\rangle \n",
        "  = T \\biggl(\\frac{1}{\\sqrt{2}} \\vert 0\\rangle + \\frac{1}{\\sqrt{2}} \\vert 1\\rangle\\biggr) \n",
        "  = \\frac{1}{\\sqrt{2}} T\\vert 0\\rangle + \\frac{1}{\\sqrt{2}} T\\vert 1\\rangle\n",
        "  = \\frac{1}{\\sqrt{2}} \\vert 0\\rangle + \\frac{1+i}{2} \\vert 1\\rangle\n",
        "$$\n",
        "\n",
        "ここで、等価な行列/ベクトル形式にわざわざ変換せず、代わりに行列乗算の線形性を数式と一緒に使用していることに注意してください。\n",
        "\n",
        "$$\n",
        "T \\vert 0\\rangle = \\vert 0\\rangle \n",
        "\\quad\\text{and}\\quad\n",
        "T \\vert 1\\rangle = \\frac{1 + i}{\\sqrt{2}} \\vert 1\\rangle.\n",
        "$$\n",
        "\n",
        "同様に、取得した量子状態ベクトルにアダマール演算を適用した結果を計算することもできます。\n",
        "\n",
        "$$\n",
        "\\begin{aligned}\n",
        "H\\,  \\biggl(\\frac{1}{\\sqrt{2}} \\vert 0\\rangle + \\frac{1+i}{2} \\vert 1\\rangle\\biggr)\n",
        "& = \\frac{1}{\\sqrt{2}} H \\vert 0\\rangle + \\frac{1+i}{2} H \\vert 1\\rangle\\\\\n",
        "& = \\frac{1}{\\sqrt{2}} \\vert +\\rangle + \\frac{1+i}{2} \\vert -\\rangle \\\\\n",
        "& = \\biggl(\\frac{1}{2} \\vert 0\\rangle + \\frac{1}{2} \\vert 1\\rangle\\biggr)\n",
        "+ \\biggl(\\frac{1+i}{2\\sqrt{2}} \\vert 0\\rangle - \\frac{1+i}{2\\sqrt{2}} \\vert 1\\rangle\\biggr)\\\\\n",
        "& = \\biggl(\\frac{1}{2} + \\frac{1+i}{2\\sqrt{2}}\\biggr) \\vert 0\\rangle\n",
        "+ \\biggl(\\frac{1}{2} - \\frac{1+i}{2\\sqrt{2}}\\biggr) \\vert 1\\rangle.\n",
        "\\end{aligned}\n",
        "$$\n",
        "\n",
        "2 つのアプローチ (1 つは明示的に行列表現に変換するアプローチ、もう 1 つは線形性を使用し、標準的な基底状態に対する演算のアクションを組み込むアプローチ) は同等です。手元のケースで使いやすい方を使用できます。\n",
        "\n",
        "#### 量子ビットのユニタリ演算の構成\n",
        "\n",
        "ユニタリ演算の構成は、確率的設定で行ったのと同様に、行列の乗算によって表されます。たとえば、最初にアダマール演算を適用し、次に $S$ 演算を適用し、さらに別のアダマール演算を適用した場合、結果の演算 ($R$ と名付けます) は次のようになります。\n",
        "\n",
        "$$\n",
        "  R = H S H =\n",
        "  \\begin{pmatrix}\n",
        "    \\frac{1}{\\sqrt{2}} & \\frac{1}{\\sqrt{2}} \\\\[2mm]\n",
        "    \\frac{1}{\\sqrt{2}} & -\\frac{1}{\\sqrt{2}}\n",
        "  \\end{pmatrix}\n",
        "  \\begin{pmatrix}\n",
        "    1 & 0\\\\\n",
        "    0 & i\n",
        "  \\end{pmatrix}\n",
        "  \\begin{pmatrix}\n",
        "    \\frac{1}{\\sqrt{2}} & \\frac{1}{\\sqrt{2}} \\\\[2mm]\n",
        "    \\frac{1}{\\sqrt{2}} & -\\frac{1}{\\sqrt{2}}\n",
        "  \\end{pmatrix}\n",
        "  =\n",
        "  \\begin{pmatrix}\n",
        "    \\frac{1+i}{2} & \\frac{1-i}{2} \\\\[2mm]\n",
        "    \\frac{1-i}{2} & \\frac{1+i}{2}\n",
        "  \\end{pmatrix}.\n",
        "$$\n",
        "\n",
        "このユニタリ演算 $R$ は興味深い例です。この演算を 2 回適用することにより、行列表現を 2 乗することと同じになり、NOT 演算が得られます。\n",
        "\n",
        "$$\n",
        "  R^2 = \n",
        "  \\begin{pmatrix}\n",
        "    \\frac{1+i}{2} & \\frac{1-i}{2} \\\\[2mm]\n",
        "    \\frac{1-i}{2} & \\frac{1+i}{2}\n",
        "  \\end{pmatrix}^2\n",
        "  =\n",
        "  \\begin{pmatrix}\n",
        "    0 & 1 \\\\[2mm]\n",
        "    1 & 0\n",
        "  \\end{pmatrix}.\n",
        "$$\n",
        "\n",
        "つまり、$R$ は*NOT 演算の平方根*です。同じ演算を 2 回適用して NOT 演算を行うこのような動作は、単一ビットに対する従来の演算では不可能です。これは、負の数の平方根を取得して実数直線上に留まることはできないという事実に関連しています。\n",
        "\n",
        "以下の対話型コンポーネントを使用して、一連の量子ビットユニタリ演算を作成できます。これは、結果のユニタリ演算の行列表現と、量子ビットのデフォルトの初期化状態である $\\vert 0\\rangle$ 状態に対するそのアクションの両方を示しています。シーケンスを指定するには、量子ビットに対して実行する操作を行上にドラッグします。左端の操作が最初に適用され、右端の操作が最後に適用されます。このような図は、*量子回路*を表しています。これについては、レッスン 3 でさらに詳しく説明し、一般的に説明します。"
      ]
    },
    {
      "cell_type": "markdown",
      "id": "ed49552c",
      "metadata": {
        "scrolled": true
      },
      "source": [
        "<!-- ::: q-block -->\n",
        "\n",
        "### 回路サンドボックス\n",
        "\n",
        "```\n",
        "q-circuit-sandbox-widget(goal=\"single-systems-circuit-sandbox\")\n",
        "    .availableGates X Y Z H S T\n",
        "    .instructions Drag the operations down onto the circuit to see how they transform the qubit.\n",
        "    .explanation The <strong>matrix</strong> display shows the unitary matrix of the circuit (i.e., of all the operations composed together). The <strong>state vector</strong> display shows the state of the qubit after the operations act on it.\n",
        "```\n",
        "\n",
        "<!-- ::: -->"
      ]
    },
    {
      "cell_type": "markdown",
      "id": "e3b623b4",
      "metadata": {
        "formulas": {
          "_u00": {
            "meaning": "The probability amplitude of this operation transforming the input qubit from 0 → 0."
          },
          "_u01": {
            "meaning": "The probability amplitude of this operation transforming the input qubit from 0 → 1."
          },
          "_u02": {
            "meaning": "The probability amplitude of this operation transforming the input qubit from 0 → 2."
          },
          "_u10": {
            "meaning": "The probability amplitude of this operation transforming the input qubit from 1 → 0."
          },
          "_u11": {
            "meaning": "The probability amplitude of this operation transforming the input qubit from 1 → 1."
          },
          "_u12": {
            "meaning": "The probability amplitude of this operation transforming the input qubit from 1 → 2."
          },
          "_u20": {
            "meaning": "The probability amplitude of this operation transforming the input qubit from 2 → 0."
          },
          "_u21": {
            "meaning": "The probability amplitude of this operation transforming the input qubit from 2 → 1."
          },
          "_u22": {
            "meaning": "The probability amplitude of this operation transforming the input qubit from 2 → 2."
          }
        }
      },
      "source": [
        "#### 大規模システムでの単一操作\n",
        "\n",
        "後のレッスンでは、3 つ以上の古典的な状態を持つシステムに対するユニタリー操作の多くの例を見ていきます。 3 つの古典的な状態を持つシステムでのユニタリ操作の例は、次の行列で与えられます。\n",
        "\n",
        "$$\n",
        "  A = \n",
        "  \\begin{pmatrix}\n",
        "    \\class{_u00}{0} & \\class{_u10}{0} & \\class{_u20}{1} \\\\\n",
        "    \\class{_u01}{1} & \\class{_u11}{0} & \\class{_u21}{0} \\\\\n",
        "    \\class{_u02}{0} & \\class{_u12}{1} & \\class{_u22}{0}\n",
        "  \\end{pmatrix}\n",
        "$$\n",
        "\n",
        "システムの古典的な状態が $0$、$1$、$2$ であると仮定すると、この操作は $3$ を法とする加算として説明できます。\n",
        "\n",
        "$$\n",
        "  A \\vert 0\\rangle = \\vert 1\\rangle,\n",
        "  \\quad\n",
        "  A \\vert 1\\rangle = \\vert 2\\rangle,\n",
        "  \\quad\\text{and}\\quad\n",
        "  A \\vert 2\\rangle = \\vert 0\\rangle\n",
        "$$\n",
        "\n",
        "行列 $A$ は、*順列行列*の例です。これは、すべての行と列に 1 つの $1.$ が含まれる行列です。このような行列は、作用するベクトルのエントリを再配置または並べ替えるだけです。恒等式は最も単純な置換行列です。別の例は、ビットまたは量子ビットに対する NOT 演算です。正の整数次元のすべての置換行列はユニタリーです。これらは、古典的演算と量子演算の両方を表す行列の唯一の例です。行列は、置換行列である場合に限り、確率的かつユニタリです。\n",
        "\n",
        "ユニタリ行列の別の例、今回は $4\\times 4$ 行列です。これは次のとおりです。\n",
        "\n",
        "$$\n",
        "  U = \n",
        "  \\frac{1}{2}\n",
        "  \\begin{pmatrix}\n",
        "    1 & 1 & 1 & 1 \\\\\n",
        "    1 & i & -1 & -i \\\\\n",
        "    1 & -1 & 1 & -1 \\\\\n",
        "    1 & -i & -1 & i\n",
        "  \\end{pmatrix}.\n",
        "$$\n",
        "\n",
        "この行列は、特に $4\\times 4$ の場合の、*量子フーリエ変換*として知られる演算を記述します。量子フーリエ変換は、任意の正の整数次元 $n$ に対してより一般的に定義でき、量子アルゴリズムに関するユニット 2 で重要な役割を果たします。"
      ]
    },
    {
      "cell_type": "markdown",
      "id": "defaab70",
      "metadata": {
      },
      "source": [
        "## 3. コード例\n",
        "\n",
        "このセクションでは、このレッスンで紹介した概念の Qiskit 実装の例をいくつか紹介します。\n",
        "\n",
        "### 3.1 Python のベクトルと行列\n",
        "\n",
        "Qiskit は Python プログラミング言語を使用するため、Qiskit について具体的に説明する前に、Python での行列とベクトルの計算について簡単に説明しておくと役立つでしょう。 Python では、 `NumPy`ライブラリ (数値計算用の追加コンポーネントが多数含まれています) の`array`クラスを使用して、行列およびベクトルの計算を実行できます。\n",
        "\n",
        "以下は、量子ビット状態ベクトル $\\vert 0\\rangle$ と $\\vert 1\\rangle$ に対応する 2 つのベクトル`ket0`と`ket1`を定義し、それらの平均を表示するコード セルの例です。"
      ]
    },
    {
      "cell_type": "code",
      "execution_count": null,
      "id": "d76964d8",
      "metadata": {
      },
      "outputs": [

      ],
      "source": [
        "from numpy import array\n",
        "\n",
        "ket0 = array([1, 0])\n",
        "ket1 = array([0, 1])\n",
        "\n",
        "display(ket0/2 + ket1/2)"
      ]
    },
    {
      "cell_type": "markdown",
      "id": "07f77c64",
      "metadata": {
      },
      "source": [
        "実際には、この計算の結果を確認するために、 `display`コマンドを明示的に使用する必要はありません。代わりに、対象の式をコード セルの最後の行として単純に記述すると、その式が出力として返されます。"
      ]
    },
    {
      "cell_type": "code",
      "execution_count": null,
      "id": "b51320d3",
      "metadata": {
      },
      "outputs": [

      ],
      "source": [
        "ket0/2 + ket1/2"
      ]
    },
    {
      "cell_type": "markdown",
      "id": "c33bdaa6",
      "metadata": {
      },
      "source": [
        "このコード セルは、この教科書の特定のページでコード セルを連続して実行すると累積的な効果があることも示しているため、 `array`クラスを再ロードしたり、 `ket0`と`ket1`を再度定義したりする必要はありません。ただし、ページをリロードするか、別のページに切り替えると、すべてが初期状態にリセットされます。\n",
        "\n",
        "一般的なガイドラインとして、このコースの番号付きの各サブセクション内のコード セルは、順番に実行することを目的としています。したがって、コード セルを実行するとエラーが発生する場合は、必ず最初に、そのコード セルが含まれるサブセクション内の以前のコード セルをすべて実行してください。"
      ]
    },
    {
      "cell_type": "markdown",
      "id": "963b22d1",
      "metadata": {
      },
      "source": [
        "`array`を使用して、演算を表す行列を作成することもできます。"
      ]
    },
    {
      "cell_type": "code",
      "execution_count": null,
      "id": "11733a15",
      "metadata": {
        "scrolled": true
      },
      "outputs": [

      ],
      "source": [
        "M1 = array([[1, 1], [0, 0]])\n",
        "M2 = array([[1, 1], [1, 0]])\n",
        "\n",
        "M1/2 + M2/2"
      ]
    },
    {
      "cell_type": "markdown",
      "id": "947648f3",
      "metadata": {
      },
      "source": [
        "行列の乗算 (特殊な場合として行列とベクトルの乗算を含む) は、 `NumPy`の`matmul`関数を使用して実行できます。"
      ]
    },
    {
      "cell_type": "code",
      "execution_count": null,
      "id": "ade2c9dc",
      "metadata": {
      },
      "outputs": [

      ],
      "source": [
        "from numpy import matmul\n",
        "\n",
        "display(matmul(M1,ket1))\n",
        "display(matmul(M1,M2))\n",
        "display(matmul(M2,M1))"
      ]
    },
    {
      "cell_type": "markdown",
      "id": "20e10506",
      "metadata": {
      },
      "source": [
        "### 3.2 Qiskit の状態、測定、操作\n",
        "\n",
        "Qiskit には、状態、測定、および操作を簡単に作成および操作できるようにするいくつかのクラスが含まれています。そのため、量子状態、測定、および操作をシミュレートするために必要なものすべてをゼロからプログラミングして Python で作成する必要はありません。開始するためのいくつかの例を以下に示します。\n",
        "\n",
        "#### 状態ベクトルの定義と表示\n",
        "\n",
        "Qiskit の`Statevector`クラスは、量子状態ベクトルを定義および操作するための機能を提供します。次のコード セルは、 `Statevector`クラスをインポートし、それを使用していくつかのベクトルを定義します。"
      ]
    },
    {
      "cell_type": "code",
      "execution_count": null,
      "id": "36e7b320",
      "metadata": {
      },
      "outputs": [

      ],
      "source": [
        "from qiskit.quantum_info import Statevector\n",
        "from numpy import sqrt\n",
        "\n",
        "u = Statevector([1/sqrt(2), 1/sqrt(2)])\n",
        "v = Statevector([(1+2.j)/3, -2/3])\n",
        "w = Statevector([1/3, 2/3])\n",
        "\n",
        "print(\"State vectors u, v, and w have been defined.\")"
      ]
    },
    {
      "cell_type": "markdown",
      "id": "70e704a3",
      "metadata": {
      },
      "source": [
        "(ベクトル`u`の平方根を計算するには、 `NumPy`ライブラリの`sqrt`関数が必要であることに注意してください。)\n",
        "\n",
        "`Statevector`クラスは、このコード セルが示すように、さまざまな視覚化のための`latex`および`text`オプションを含む状態ベクトルを表示するための`draw`メソッドを提供します。"
      ]
    },
    {
      "cell_type": "code",
      "execution_count": null,
      "id": "aad3460f",
      "metadata": {
      },
      "outputs": [

      ],
      "source": [
        "display(u.draw('latex'))\n",
        "display(v.draw('text'))"
      ]
    },
    {
      "cell_type": "markdown",
      "id": "61448553",
      "metadata": {
      },
      "source": [
        "`Statevector`クラスには、指定されたベクトルが有効な量子状態ベクトルであるかどうか (つまり、ユークリッド ノルムが 1 に等しいかどうか) を確認する`is_valid`メソッドも含まれています。"
      ]
    },
    {
      "cell_type": "code",
      "execution_count": null,
      "id": "68dc6a1b",
      "metadata": {
        "scrolled": true
      },
      "outputs": [

      ],
      "source": [
        "display(u.is_valid())\n",
        "display(v.is_valid())\n",
        "display(w.is_valid())"
      ]
    },
    {
      "cell_type": "markdown",
      "id": "26918a81",
      "metadata": {
      },
      "source": [
        "#### `Statevector`を使用した測定のシミュレーション\n",
        "\n",
        "次に、 `Statevector`クラスの`measure`メソッドを使用して、Qiskit で量子状態の測定をシミュレートできる 1 つの方法を見ていきます。\n",
        "\n",
        "まず、量子ビット状態ベクトル`v`を作成して表示します。"
      ]
    },
    {
      "cell_type": "code",
      "execution_count": null,
      "id": "d811bcf2",
      "metadata": {
      },
      "outputs": [

      ],
      "source": [
        "v = Statevector([(1+2.j)/3, -2/3])\n",
        "v.draw('latex')"
      ]
    },
    {
      "cell_type": "markdown",
      "id": "cdd4d5e1",
      "metadata": {
      },
      "source": [
        "(コード セルは変更できることに注意してください。必要に応じてベクトルの仕様を変更してください。または、右側のスクラッチパッドを使用してコード セルを実験することもできます。)\n",
        "\n",
        "次に、 `measure`メソッドを実行すると、標準的な基準の測定がシミュレートされます。その測定結果と、測定後のシステムの新しい量子状態を返します。"
      ]
    },
    {
      "cell_type": "code",
      "execution_count": null,
      "id": "0eeafda1",
      "metadata": {
        "scrolled": true
      },
      "outputs": [

      ],
      "source": [
        "v.measure()"
      ]
    },
    {
      "cell_type": "markdown",
      "id": "b4843cbc",
      "metadata": {
      },
      "source": [
        "測定結果は確率的なものであるため、同じ方法でも異なる結果が返される可能性があります。これを確認するには、セルを数回実行してみてください。\n",
        "\n",
        "上記で定義されたベクトル`v`の特定の例では、 `measure`メソッドは、測定が行われた後の量子状態ベクトルを次のように定義します。\n",
        "\n",
        "$$\n",
        "\\frac{1 + 2i}{\\sqrt{5}} \\vert 0\\rangle\n",
        "$$\n",
        "\n",
        "($\\vert 0\\rangle$ ではなく) または\n",
        "\n",
        "$$\n",
        "- \\vert 1\\rangle\n",
        "$$\n",
        "\n",
        "($\\vert 1\\rangle$ ではなく)、測定結果に応じて。どちらの場合でも、選択肢は実際には等価です。一方が他方に*単位円上の複素数を掛けたものに等しいため、それらは大域位相によって異なる*と言われます。この問題についてはレッスン 3 で詳しく説明しますが、今のところは無視しても問題ありません。\n",
        "\n",
        "余談ですが、無効な量子状態ベクトルに`measure`メソッドが適用されると、 `Statevector`エラーをスローします。気が向いたらぜひ試してみてください！\n",
        "\n",
        "`Statevector`には、システム上の任意の数の測定値のシミュレーションを可能にする`sample_counts`メソッドも付属しています。たとえば、次のセルはベクトル`v` $1000$ 回測定した結果を示しており、これにより (高い確率で) $9$ 回ごとに約 $5$ の結果 $0$ (または $1000$ の試行のうち約 $55$) が得られます。そして、結果 $1$ は、$9$ 回ごとに約 $4$ (または $1000$ のトライアルのうち約 $444$) です。このセルは、結果を視覚化するための関数`plot_histogram`も示しています。"
      ]
    },
    {
      "cell_type": "code",
      "execution_count": null,
      "id": "fde6ccf9",
      "metadata": {
        "scrolled": false
      },
      "outputs": [

      ],
      "source": [
        "from qiskit.visualization import plot_histogram\n",
        "\n",
        "statistics = v.sample_counts(1000)\n",
        "display(statistics)\n",
        "plot_histogram(statistics)"
      ]
    },
    {
      "cell_type": "markdown",
      "id": "dccc139c",
      "metadata": {
      },
      "source": [
        "$1000$ の代わりにさまざまなサンプル数を試してみることは、試行回数が推定確率にどのような影響を与えるかについての直観を養うのに役立つかもしれません。"
      ]
    },
    {
      "cell_type": "markdown",
      "id": "326d298e",
      "metadata": {
      },
      "source": [
        "#### `Operator`と`Statevector`を使用した演算の実行\n",
        "\n",
        "次の例のように、Qiskit で`Operator`クラスを使用して状態ベクトルに対してユニタリ演算を定義および実行できます。"
      ]
    },
    {
      "cell_type": "code",
      "execution_count": null,
      "id": "4fe2e414",
      "metadata": {
      },
      "outputs": [

      ],
      "source": [
        "from qiskit.quantum_info import Operator\n",
        "\n",
        "X = Operator([[0,1],[1,0]])\n",
        "Y = Operator([[0,-1.j],[1.j,0]])\n",
        "Z = Operator([[1,0],[0,-1]])\n",
        "H = Operator([[1/sqrt(2),1/sqrt(2)],[1/sqrt(2),-1/sqrt(2)]])\n",
        "S = Operator([[1,0],[0,1.j]])\n",
        "T = Operator([[1,0],[0,(1+1.j)/sqrt(2)]])\n",
        "\n",
        "v = Statevector([1,0])\n",
        "\n",
        "v = v.evolve(H)\n",
        "v = v.evolve(T)\n",
        "v = v.evolve(H)\n",
        "v = v.evolve(T)\n",
        "v = v.evolve(Z)\n",
        "\n",
        "v.draw('latex')"
      ]
    },
    {
      "cell_type": "markdown",
      "id": "fafda2cc",
      "metadata": {
      },
      "source": [
        "#### 量子回路の未来を見据えて\n",
        "\n",
        "量子回路はレッスン 3 まで正式に紹介されませんが、それでも Qiskit の`QuantumCircuit`クラスを使用して量子ビットのユニタリ演算を構成する実験を行うことができます。特に、量子回路 (この場合、単に単一の量子ビットに対して実行される一連のユニタリ演算) を次のように定義できます。"
      ]
    },
    {
      "cell_type": "code",
      "execution_count": null,
      "id": "68490946",
      "metadata": {
      },
      "outputs": [

      ],
      "source": [
        "from qiskit import QuantumCircuit\n",
        "\n",
        "circuit = QuantumCircuit(1)\n",
        "\n",
        "circuit.h(0)\n",
        "circuit.t(0)\n",
        "circuit.h(0)\n",
        "circuit.t(0)\n",
        "circuit.z(0)\n",
        "\n",
        "circuit.draw()"
      ]
    },
    {
      "cell_type": "markdown",
      "id": "8426be38",
      "metadata": {
      },
      "source": [
        "操作は、図の左側から開始して右側に終了するように、順番に適用されます。まず開始量子状態ベクトルを初期化してから、一連の操作に従ってその状態を進化させましょう。"
      ]
    },
    {
      "cell_type": "code",
      "execution_count": null,
      "id": "5a81f9bf",
      "metadata": {
      },
      "outputs": [

      ],
      "source": [
        "ket0 = Statevector([1,0])\n",
        "v = ket0.evolve(circuit)\n",
        "v.draw('latex')"
      ]
    },
    {
      "cell_type": "markdown",
      "id": "fc2b9797",
      "metadata": {
      },
      "source": [
        "最後に、この実験 (つまり、状態 $\\vert 0\\rangle$ を準備し、回路で表される一連の演算を適用し、測定) を 4000 回実行した結果をシミュレートしてみましょう。"
      ]
    },
    {
      "cell_type": "code",
      "execution_count": null,
      "id": "26dec838",
      "metadata": {
        "scrolled": true
      },
      "outputs": [

      ],
      "source": [
        "statistics = v.sample_counts(4000)\n",
        "plot_histogram(statistics)"
      ]
    }
  ],
  "metadata": {
    "kernelspec": {
      "display_name": "Python 3",
      "language": "python",
      "name": "python3"
    },
    "language_info": {
      "codemirror_mode": {
        "name": "ipython",
        "version": 3
      },
      "file_extension": ".py",
      "mimetype": "text/x-python",
      "name": "python",
      "nbconvert_exporter": "python",
      "pygments_lexer": "ipython3",
      "version": "3.9"
    }
  },
  "nbformat": 4,
  "nbformat_minor": 5
}
